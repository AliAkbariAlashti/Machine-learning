{
 "cells": [
  {
   "cell_type": "markdown",
   "metadata": {},
   "source": [
    "# Imports"
   ]
  },
  {
   "cell_type": "code",
   "execution_count": null,
   "metadata": {},
   "outputs": [],
   "source": [
    "import numpy as np\n",
    "import pandas as pd\n",
    "import pyodbc\n",
    "from math import sqrt\n",
    "import seaborn as sns\n",
    "import matplotlib.pyplot as plt\n",
    "import math\n",
    "from itertools import combinations\n",
    "from collections import defaultdict\n",
    "from mlxtend.frequent_patterns import fpgrowth\n",
    "from mlxtend.frequent_patterns import association_rules\n",
    "%matplotlib inline"
   ]
  },
  {
   "cell_type": "markdown",
   "metadata": {},
   "source": [
    "# Data"
   ]
  },
  {
   "cell_type": "code",
   "execution_count": null,
   "metadata": {},
   "outputs": [],
   "source": [
    "data = pd.read_csv('export-sales-report-20250202.csv')\n",
    "data.head()"
   ]
  },
  {
   "cell_type": "markdown",
   "metadata": {},
   "source": [
    "## proccesing the datetime"
   ]
  },
  {
   "cell_type": "code",
   "execution_count": null,
   "metadata": {},
   "outputs": [],
   "source": [
    "data[\"PersianDate\"] = data[\"PersianDate\"].str.split(\"/\").str[1] + data[\"PersianDate\"].str.split(\"/\").str[2]\n",
    "data.head()"
   ]
  },
  {
   "cell_type": "code",
   "execution_count": null,
   "metadata": {},
   "outputs": [],
   "source": [
    "lst = data['PersianDate'].to_list()"
   ]
  },
  {
   "cell_type": "code",
   "execution_count": null,
   "metadata": {},
   "outputs": [],
   "source": [
    "grouped = data.groupby([\"PersianDate\", \"BuyerId\"])[\"ProductId\"].apply(list).reset_index()\n",
    "grouped.head()"
   ]
  },
  {
   "cell_type": "markdown",
   "metadata": {},
   "source": [
    "# FP - growth"
   ]
  },
  {
   "cell_type": "markdown",
   "metadata": {},
   "source": [
    "## grouping the data"
   ]
  },
  {
   "cell_type": "code",
   "execution_count": null,
   "metadata": {},
   "outputs": [],
   "source": [
    "productid = data['ProductId'].unique().tolist()\n",
    "\n",
    "data[\"PersianDate\"] = data[\"PersianDate\"].str.split(\"/\").str[1] + data[\"PersianDate\"].str.split(\"/\").str[2]\n",
    "\n",
    "grouped = data.groupby([\"PersianDate\", \"BuyerId\"])[\"ProductId\"].apply(list).reset_index()\n",
    "\n",
    "ap_df = grouped[grouped['BuyerId'] == 50]\n",
    "\n",
    "transactions = ap_df['ProductId'].tolist()"
   ]
  },
  {
   "cell_type": "markdown",
   "metadata": {},
   "source": [
    "## the algortihm"
   ]
  },
  {
   "cell_type": "code",
   "execution_count": null,
   "metadata": {},
   "outputs": [],
   "source": [
    "all_products = sorted(set(item for sublist in transactions for item in sublist))  # لیست تمام محصولات\n",
    "onehot_encoded_data = []\n",
    "for transaction in transactions:\n",
    "    onehot_encoded_data.append([1 if product in transaction else 0 for product in all_products])\n",
    "\n",
    "onehot_df = pd.DataFrame(onehot_encoded_data, columns=all_products)\n",
    "\n",
    "frequent_itemsets = fpgrowth(onehot_df, min_support=0.05, use_colnames=True)\n",
    "\n",
    "rules = association_rules(frequent_itemsets, metric=\"confidence\", min_threshold=0.5)\n",
    "\n",
    "frequent_itemsets\n",
    "rules"
   ]
  },
  {
   "cell_type": "markdown",
   "metadata": {},
   "source": [
    "# Recommender Function"
   ]
  },
  {
   "cell_type": "code",
   "execution_count": null,
   "metadata": {},
   "outputs": [],
   "source": [
    "def fpgrowth_recommender(rules: pd.DataFrame, item_list: list):\n",
    "    filtered_rules = pd.DataFrame()\n",
    "\n",
    "    for item in item_list:\n",
    "        filtered_rules = pd.concat([filtered_rules, rules[rules['antecedents'].apply(lambda x: item in x)]])\n",
    "\n",
    "    filtered_rules = filtered_rules[filtered_rules['confidence'] > 0.1]\n",
    "\n",
    "    recommended_items = (filtered_rules[['consequents', 'confidence']]\n",
    "                         .explode('consequents')\n",
    "                         .sort_values(by='confidence', ascending=False))\n",
    "\n",
    "    return [item for item in recommended_items['consequents'].tolist() if item not in item_list]\n",
    "\n",
    "\n",
    "\n",
    "def drop (lsrecom):\n",
    "    rlst = []\n",
    "    for i in lsrecom:\n",
    "        if i not in rlst:\n",
    "            rlst.append(i)\n",
    "    return rlst\n",
    "\n",
    "\n",
    "\n",
    "\n",
    "x = int(input(\"enter the first product id: \"))\n",
    "p_list = []\n",
    "p_list.append(x)\n",
    "products_df = pd.read_excel('p_id_name.xlsx')\n",
    "while True:\n",
    "    recommended = fpgrowth_recommender(rules, p_list)\n",
    "    recommendeddf = pd.DataFrame(drop(recommended), columns=['ProductId'])\n",
    "    recommendeddf = recommendeddf.merge(products_df, left_on='ProductId', right_on='ID', how='left')\n",
    "    print(recommendeddf[['ProductId', 'Name']].head(10))  \n",
    "    new_item = input(\"Enter the next product id or 'exit' to finish: \")\n",
    "    if new_item.lower() == 'exit':\n",
    "        break\n",
    "    try:\n",
    "        new_item = int(new_item)\n",
    "        if new_item not in p_list:\n",
    "            p_list.append(new_item)\n",
    "        else:\n",
    "            print(\"code already entered\")\n",
    "    except ValueError:\n",
    "        print(\"Invalid input. Please enter a valid product id\")"
   ]
  },
  {
   "cell_type": "code",
   "execution_count": null,
   "metadata": {},
   "outputs": [],
   "source": [
    "def drop (lsrecom):\n",
    "    rlst = []\n",
    "    for i in lsrecom:\n",
    "        if i not in rlst:\n",
    "            rlst.append(i)\n",
    "    return rlst"
   ]
  },
  {
   "cell_type": "code",
   "execution_count": null,
   "metadata": {},
   "outputs": [],
   "source": [
    "x = int(input(\"enter the first product id: \"))\n",
    "p_list = []\n",
    "p_list.append(x)\n",
    "products_df = pd.read_excel('p_id_name.xlsx')\n",
    "while True:\n",
    "    recommended = fpgrowth_recommender(rules, p_list)\n",
    "    recommendeddf = pd.DataFrame(drop(recommended), columns=['ProductId'])\n",
    "    recommendeddf = recommendeddf.merge(products_df, left_on='ProductId', right_on='ID', how='left')\n",
    "    print(recommendeddf[['ProductId', 'Name']].head(10))  \n",
    "    new_item = input(\"Enter the next product id or 'exit' to finish: \")\n",
    "    if new_item.lower() == 'exit':\n",
    "        break\n",
    "    try:\n",
    "        new_item = int(new_item)\n",
    "        if new_item not in p_list:\n",
    "            p_list.append(new_item)\n",
    "        else:\n",
    "            print(\"code already entered\")\n",
    "    except ValueError:\n",
    "        print(\"Invalid input. Please enter a valid product id\")"
   ]
  }
 ],
 "metadata": {
  "language_info": {
   "name": "python"
  }
 },
 "nbformat": 4,
 "nbformat_minor": 2
}
