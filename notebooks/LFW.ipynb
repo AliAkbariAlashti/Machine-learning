{
 "cells": [
  {
   "cell_type": "markdown",
   "metadata": {},
   "source": [
    "# Simple LFW Dataset Analysis\n",
    "\n",
    "This notebook demonstrates basic PCA analysis on the LFW dataset."
   ]
  },
  {
   "cell_type": "code",
   "execution_count": null,
   "metadata": {},
   "source": [
    "import sys\n",
    "sys.path.append('../src')\n",
    "\n",
    "import numpy as np\n",
    "import matplotlib.pyplot as plt\n",
    "from sklearn.decomposition import PCA\n",
    "from utils import load_dataset, plot_eigenfaces\n",
    "\n",
    "%matplotlib inline"
   ]
  },
  {
   "cell_type": "code",
   "execution_count": null,
   "metadata": {},
   "source": [
    "# Settings\n",
    "IMAGE_SIZE = (50, 50)\n",
    "N_COMPONENTS = 50\n",
    "MAX_PEOPLE = 10\n",
    "\n",
    "# Load dataset\n",
    "print(\"Loading dataset...\")\n",
    "face_data, face_names = load_dataset(\n",
    "    '../lfw-deepfunneled',\n",
    "    '../peopleDevTrain',\n",
    "    max_people=MAX_PEOPLE,\n",
    "    image_size=IMAGE_SIZE\n",
    ")\n",
    "print(f\"Loaded {len(face_data)} images\")"
   ]
  },
  {
   "cell_type": "code",
   "execution_count": null,
   "metadata": {},
   "source": [
    "# Perform PCA\n",
    "pca = PCA(n_components=N_COMPONENTS)\n",
    "face_pca = pca.fit_transform(face_data)\n",
    "\n",
    "# Plot explained variance\n",
    "plt.figure(figsize=(10, 4))\n",
    "plt.plot(np.cumsum(pca.explained_variance_ratio_))\n",
    "plt.xlabel('Number of Components')\n",
    "plt.ylabel('Cumulative Explained Variance')\n",
    "plt.title('Explained Variance vs Components')\n",
    "plt.grid(True)\n",
    "plt.show()\n",
    "\n",
    "# Show eigenfaces\n",
    "eigenfaces_grid = plot_eigenfaces(pca.components_, IMAGE_SIZE)\n",
    "plt.figure(figsize=(10, 10))\n",
    "plt.imshow(eigenfaces_grid, cmap='gray')\n",
    "plt.axis('off')\n",
    "plt.title('First 4 Eigenfaces')\n",
    "plt.show()"
   ]
  }
 ],
 "metadata": {
  "kernelspec": {
   "display_name": "Python 3",
   "language": "python",
   "name": "python3"
  }
 },
 "nbformat": 4,
 "nbformat_minor": 4
}
